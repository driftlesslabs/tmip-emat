{
 "cells": [
  {
   "cell_type": "code",
   "execution_count": 1,
   "metadata": {
    "execution": {
     "iopub.execute_input": "2024-12-27T22:39:07.049367Z",
     "iopub.status.busy": "2024-12-27T22:39:07.049044Z",
     "iopub.status.idle": "2024-12-27T22:39:08.999035Z",
     "shell.execute_reply": "2024-12-27T22:39:08.998766Z"
    }
   },
   "outputs": [],
   "source": [
    "import emat\n",
    "import yaml\n",
    "import json"
   ]
  },
  {
   "cell_type": "markdown",
   "metadata": {},
   "source": [
    "# MappingParser Example\n",
    "\n",
    "In this notebook, we will illustrate the use of a MappingParser with \n",
    "a few simple examples.  "
   ]
  },
  {
   "cell_type": "code",
   "execution_count": 2,
   "metadata": {
    "execution": {
     "iopub.execute_input": "2024-12-27T22:39:09.001916Z",
     "iopub.status.busy": "2024-12-27T22:39:09.001709Z",
     "iopub.status.idle": "2024-12-27T22:39:09.003842Z",
     "shell.execute_reply": "2024-12-27T22:39:09.003991Z"
    }
   },
   "outputs": [],
   "source": [
    "from emat.model.core_files.parsers import (\n",
    "    MappingParser,\n",
    "    key\n",
    ")"
   ]
  },
  {
   "cell_type": "markdown",
   "metadata": {},
   "source": [
    "## Parsing a YAML File\n",
    "\n",
    "First, let's consider a `MappingParser` for extracting values from a \n",
    "simple YAML file of traffic counts by time period.  We'll begin \n",
    "by writing such a table as a temporary file to be processed:"
   ]
  },
  {
   "cell_type": "code",
   "execution_count": 3,
   "metadata": {
    "execution": {
     "iopub.execute_input": "2024-12-27T22:39:09.007036Z",
     "iopub.status.busy": "2024-12-27T22:39:09.006735Z",
     "iopub.status.idle": "2024-12-27T22:39:09.009183Z",
     "shell.execute_reply": "2024-12-27T22:39:09.009008Z"
    }
   },
   "outputs": [],
   "source": [
    "sample_file_yaml = \"\"\"\n",
    "---\n",
    "LinkID: 123\n",
    "LinkName: Yellow Brick Rd.\n",
    "Toll: 0.30\n",
    "Count_AM: 3498\n",
    "Count_MD: 2340\n",
    "Count_PM: 3821\n",
    "Count_EV: 1820\n",
    "...\n",
    "\"\"\"\n",
    "\n",
    "with open('/tmp/emat_sample_file.yml', 'wt') as f:\n",
    "    f.write(sample_file_yaml)"
   ]
  },
  {
   "cell_type": "markdown",
   "metadata": {},
   "source": [
    "If we wanted to read this YAML file one time, we could easily\n",
    "do so using `yaml.safe_load`:"
   ]
  },
  {
   "cell_type": "code",
   "execution_count": 4,
   "metadata": {
    "execution": {
     "iopub.execute_input": "2024-12-27T22:39:09.015592Z",
     "iopub.status.busy": "2024-12-27T22:39:09.015275Z",
     "iopub.status.idle": "2024-12-27T22:39:09.047915Z",
     "shell.execute_reply": "2024-12-27T22:39:09.048067Z"
    }
   },
   "outputs": [
    {
     "data": {
      "text/plain": [
       "{'LinkID': 123,\n",
       " 'LinkName': 'Yellow Brick Rd.',\n",
       " 'Toll': 0.3,\n",
       " 'Count_AM': 3498,\n",
       " 'Count_MD': 2340,\n",
       " 'Count_PM': 3821,\n",
       " 'Count_EV': 1820}"
      ]
     },
     "execution_count": 4,
     "metadata": {},
     "output_type": "execute_result"
    }
   ],
   "source": [
    "with open('/tmp/emat_sample_file.yml', 'rt') as fi: \n",
    "    mapping = yaml.safe_load(fi)\n",
    "    \n",
    "mapping"
   ]
  },
  {
   "cell_type": "markdown",
   "metadata": {},
   "source": [
    "It is then simple to manually extract individual values by label,\n",
    "or by position, or we could extract a row total to get a daily \n",
    "total count for a link, or take the mean of a column:"
   ]
  },
  {
   "cell_type": "code",
   "execution_count": 5,
   "metadata": {
    "execution": {
     "iopub.execute_input": "2024-12-27T22:39:09.052356Z",
     "iopub.status.busy": "2024-12-27T22:39:09.051956Z",
     "iopub.status.idle": "2024-12-27T22:39:09.055166Z",
     "shell.execute_reply": "2024-12-27T22:39:09.055030Z"
    }
   },
   "outputs": [
    {
     "data": {
      "text/plain": [
       "{'AM': 3498, 'PM': 3821, 'OffPeak': 4160}"
      ]
     },
     "execution_count": 5,
     "metadata": {},
     "output_type": "execute_result"
    }
   ],
   "source": [
    "{\n",
    "    'AM': mapping['Count_AM'],  # one key\n",
    "    'PM': mapping['Count_PM'],  \n",
    "    'OffPeak': mapping['Count_MD'] + mapping['Count_EV'],  # adding together keys\n",
    "}"
   ]
  },
  {
   "cell_type": "markdown",
   "metadata": {},
   "source": [
    "The `MappingParser` object makes it easy to combine these instructions\n",
    "to extract the same values from the same file in any model run."
   ]
  },
  {
   "cell_type": "code",
   "execution_count": 6,
   "metadata": {
    "execution": {
     "iopub.execute_input": "2024-12-27T22:39:09.058268Z",
     "iopub.status.busy": "2024-12-27T22:39:09.057955Z",
     "iopub.status.idle": "2024-12-27T22:39:09.060065Z",
     "shell.execute_reply": "2024-12-27T22:39:09.059845Z"
    }
   },
   "outputs": [],
   "source": [
    "parser = MappingParser(\n",
    "    'emat_sample_file.yml',\n",
    "    {\n",
    "        'AM': key['Count_AM'],  # one key\n",
    "        'PM': key['Count_PM'],  \n",
    "        'OffPeak': key['Count_MD'] + key['Count_EV'],  # adding together keys\n",
    "    },\n",
    ")"
   ]
  },
  {
   "cell_type": "markdown",
   "metadata": {},
   "source": [
    "We can now execute all these instructions by using the `read` method\n",
    "of the parser."
   ]
  },
  {
   "cell_type": "code",
   "execution_count": 7,
   "metadata": {
    "execution": {
     "iopub.execute_input": "2024-12-27T22:39:09.063945Z",
     "iopub.status.busy": "2024-12-27T22:39:09.062243Z",
     "iopub.status.idle": "2024-12-27T22:39:09.066827Z",
     "shell.execute_reply": "2024-12-27T22:39:09.066611Z"
    }
   },
   "outputs": [
    {
     "data": {
      "text/plain": [
       "{'AM': 3498.0, 'PM': 3821.0, 'OffPeak': 4160.0}"
      ]
     },
     "execution_count": 7,
     "metadata": {},
     "output_type": "execute_result"
    }
   ],
   "source": [
    "parser.read(from_dir='/tmp')"
   ]
  },
  {
   "cell_type": "markdown",
   "metadata": {},
   "source": [
    "Using the `MappingParser` has some advantages over just writing a custom\n",
    "function for each table to be processed.  The most important is that\n",
    "we do not need to actually parse anything to access the names of the \n",
    "keys available in the parser's output."
   ]
  },
  {
   "cell_type": "code",
   "execution_count": 8,
   "metadata": {
    "execution": {
     "iopub.execute_input": "2024-12-27T22:39:09.069631Z",
     "iopub.status.busy": "2024-12-27T22:39:09.069319Z",
     "iopub.status.idle": "2024-12-27T22:39:09.072080Z",
     "shell.execute_reply": "2024-12-27T22:39:09.072236Z"
    }
   },
   "outputs": [
    {
     "data": {
      "text/plain": [
       "['AM', 'OffPeak', 'PM']"
      ]
     },
     "execution_count": 8,
     "metadata": {},
     "output_type": "execute_result"
    }
   ],
   "source": [
    "parser.measure_names"
   ]
  },
  {
   "cell_type": "markdown",
   "metadata": {},
   "source": [
    "## Parsing a JSON File\n",
    "\n",
    "The default format for a `MappingParser` input file is YAML,\n",
    "which conveniently can also be used to read performace measures \n",
    "from a JSON file."
   ]
  },
  {
   "cell_type": "code",
   "execution_count": 9,
   "metadata": {
    "execution": {
     "iopub.execute_input": "2024-12-27T22:39:09.074836Z",
     "iopub.status.busy": "2024-12-27T22:39:09.074448Z",
     "iopub.status.idle": "2024-12-27T22:39:09.076809Z",
     "shell.execute_reply": "2024-12-27T22:39:09.076660Z"
    }
   },
   "outputs": [],
   "source": [
    "with open('/tmp/emat_sample_file.json', 'wt') as f:\n",
    "    json.dump(mapping, f)"
   ]
  },
  {
   "cell_type": "code",
   "execution_count": 10,
   "metadata": {
    "execution": {
     "iopub.execute_input": "2024-12-27T22:39:09.079592Z",
     "iopub.status.busy": "2024-12-27T22:39:09.079277Z",
     "iopub.status.idle": "2024-12-27T22:39:09.081441Z",
     "shell.execute_reply": "2024-12-27T22:39:09.081295Z"
    }
   },
   "outputs": [],
   "source": [
    "parser = MappingParser(\n",
    "    'emat_sample_file.json',\n",
    "    {\n",
    "        'AM': key['Count_AM'],  # one key\n",
    "        'PM': key['Count_PM'],  \n",
    "        'OffPeak': key['Count_MD'] + key['Count_EV'],  # adding together keys\n",
    "    },\n",
    ")"
   ]
  },
  {
   "cell_type": "code",
   "execution_count": 11,
   "metadata": {
    "execution": {
     "iopub.execute_input": "2024-12-27T22:39:09.083806Z",
     "iopub.status.busy": "2024-12-27T22:39:09.083593Z",
     "iopub.status.idle": "2024-12-27T22:39:09.087895Z",
     "shell.execute_reply": "2024-12-27T22:39:09.087525Z"
    }
   },
   "outputs": [
    {
     "data": {
      "text/plain": [
       "{'AM': 3498.0, 'PM': 3821.0, 'OffPeak': 4160.0}"
      ]
     },
     "execution_count": 11,
     "metadata": {},
     "output_type": "execute_result"
    }
   ],
   "source": [
    "parser.read(from_dir='/tmp')"
   ]
  },
  {
   "cell_type": "markdown",
   "metadata": {},
   "source": [
    "## Parsing other File Formats\n",
    "\n",
    "The `MappingParser` can also be used for other file types that can be read\n",
    "into a simple Python mapping.  For example, consider a mapping encoded as \n",
    "a `msgpack`."
   ]
  },
  {
   "cell_type": "code",
   "execution_count": 12,
   "metadata": {
    "execution": {
     "iopub.execute_input": "2024-12-27T22:39:09.090598Z",
     "iopub.status.busy": "2024-12-27T22:39:09.090289Z",
     "iopub.status.idle": "2024-12-27T22:39:09.092561Z",
     "shell.execute_reply": "2024-12-27T22:39:09.092378Z"
    }
   },
   "outputs": [],
   "source": [
    "import msgpack\n",
    "\n",
    "with open('/tmp/emat_sample_file.msgpk', 'wb') as f:\n",
    "    msgpack.dump(mapping, f)"
   ]
  },
  {
   "cell_type": "markdown",
   "metadata": {},
   "source": [
    "To parse this file, we'll need to write a small reader function that\n",
    "takes a filename and returns the raw mapping."
   ]
  },
  {
   "cell_type": "code",
   "execution_count": 13,
   "metadata": {
    "execution": {
     "iopub.execute_input": "2024-12-27T22:39:09.095410Z",
     "iopub.status.busy": "2024-12-27T22:39:09.095139Z",
     "iopub.status.idle": "2024-12-27T22:39:09.097194Z",
     "shell.execute_reply": "2024-12-27T22:39:09.096987Z"
    }
   },
   "outputs": [],
   "source": [
    "def msgpack_load(filename):\n",
    "    with open(filename, 'rb') as fi:\n",
    "        return msgpack.load(fi)\n"
   ]
  },
  {
   "cell_type": "markdown",
   "metadata": {},
   "source": [
    "Then we provide that reader function in the `reader_method` \n",
    "argument when constucting the MappingParser."
   ]
  },
  {
   "cell_type": "code",
   "execution_count": 14,
   "metadata": {
    "execution": {
     "iopub.execute_input": "2024-12-27T22:39:09.100084Z",
     "iopub.status.busy": "2024-12-27T22:39:09.099761Z",
     "iopub.status.idle": "2024-12-27T22:39:09.101918Z",
     "shell.execute_reply": "2024-12-27T22:39:09.101678Z"
    }
   },
   "outputs": [],
   "source": [
    "parser = MappingParser(\n",
    "    'emat_sample_file.msgpk',\n",
    "    {\n",
    "        'AM': key['Count_AM'],  # one key\n",
    "        'PM': key['Count_PM'],  \n",
    "        'OffPeak': key['Count_MD'] + key['Count_EV'],  # adding together keys\n",
    "    },\n",
    "    reader_method=msgpack_load\n",
    ")"
   ]
  },
  {
   "cell_type": "code",
   "execution_count": 15,
   "metadata": {
    "execution": {
     "iopub.execute_input": "2024-12-27T22:39:09.104465Z",
     "iopub.status.busy": "2024-12-27T22:39:09.104106Z",
     "iopub.status.idle": "2024-12-27T22:39:09.107870Z",
     "shell.execute_reply": "2024-12-27T22:39:09.107578Z"
    }
   },
   "outputs": [
    {
     "data": {
      "text/plain": [
       "{'AM': 3498.0, 'PM': 3821.0, 'OffPeak': 4160.0}"
      ]
     },
     "execution_count": 15,
     "metadata": {},
     "output_type": "execute_result"
    }
   ],
   "source": [
    "parser.read(from_dir='/tmp')"
   ]
  }
 ],
 "metadata": {
  "kernelspec": {
   "display_name": "Python 3",
   "language": "python",
   "name": "python3"
  },
  "language_info": {
   "codemirror_mode": {
    "name": "ipython",
    "version": 3
   },
   "file_extension": ".py",
   "mimetype": "text/x-python",
   "name": "python",
   "nbconvert_exporter": "python",
   "pygments_lexer": "ipython3",
   "version": "3.10.15"
  },
  "toc": {
   "base_numbering": 1,
   "nav_menu": {},
   "number_sections": true,
   "sideBar": true,
   "skip_h1_title": false,
   "title_cell": "Table of Contents",
   "title_sidebar": "Contents",
   "toc_cell": false,
   "toc_position": {},
   "toc_section_display": true,
   "toc_window_display": false
  },
  "widgets": {
   "application/vnd.jupyter.widget-state+json": {
    "state": {
     "167ee80e3bde41938a741699e2b0ba53": {
      "model_module": "@jupyter-widgets/base",
      "model_module_version": "2.0.0",
      "model_name": "LayoutModel",
      "state": {
       "_model_module": "@jupyter-widgets/base",
       "_model_module_version": "2.0.0",
       "_model_name": "LayoutModel",
       "_view_count": null,
       "_view_module": "@jupyter-widgets/base",
       "_view_module_version": "2.0.0",
       "_view_name": "LayoutView",
       "align_content": null,
       "align_items": null,
       "align_self": null,
       "border_bottom": null,
       "border_left": null,
       "border_right": null,
       "border_top": null,
       "bottom": null,
       "display": null,
       "flex": null,
       "flex_flow": null,
       "grid_area": null,
       "grid_auto_columns": null,
       "grid_auto_flow": null,
       "grid_auto_rows": null,
       "grid_column": null,
       "grid_gap": null,
       "grid_row": null,
       "grid_template_areas": null,
       "grid_template_columns": null,
       "grid_template_rows": null,
       "height": null,
       "justify_content": null,
       "justify_items": null,
       "left": null,
       "margin": null,
       "max_height": null,
       "max_width": null,
       "min_height": null,
       "min_width": null,
       "object_fit": null,
       "object_position": null,
       "order": null,
       "overflow": null,
       "padding": null,
       "right": null,
       "top": null,
       "visibility": null,
       "width": "250px"
      }
     },
     "a0d751303eb3457d81f2489bb044b6ff": {
      "model_module": "@jupyter-widgets/base",
      "model_module_version": "2.0.0",
      "model_name": "LayoutModel",
      "state": {
       "_model_module": "@jupyter-widgets/base",
       "_model_module_version": "2.0.0",
       "_model_name": "LayoutModel",
       "_view_count": null,
       "_view_module": "@jupyter-widgets/base",
       "_view_module_version": "2.0.0",
       "_view_name": "LayoutView",
       "align_content": null,
       "align_items": null,
       "align_self": null,
       "border_bottom": null,
       "border_left": null,
       "border_right": null,
       "border_top": null,
       "bottom": null,
       "display": null,
       "flex": null,
       "flex_flow": null,
       "grid_area": null,
       "grid_auto_columns": null,
       "grid_auto_flow": null,
       "grid_auto_rows": null,
       "grid_column": null,
       "grid_gap": null,
       "grid_row": null,
       "grid_template_areas": null,
       "grid_template_columns": null,
       "grid_template_rows": null,
       "height": null,
       "justify_content": null,
       "justify_items": null,
       "left": null,
       "margin": null,
       "max_height": null,
       "max_width": null,
       "min_height": null,
       "min_width": null,
       "object_fit": null,
       "object_position": null,
       "order": null,
       "overflow": null,
       "padding": null,
       "right": null,
       "top": null,
       "visibility": null,
       "width": null
      }
     }
    },
    "version_major": 2,
    "version_minor": 0
   }
  }
 },
 "nbformat": 4,
 "nbformat_minor": 2
}
