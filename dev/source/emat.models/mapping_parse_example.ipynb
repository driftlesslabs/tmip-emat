{
 "cells": [
  {
   "cell_type": "code",
   "execution_count": 1,
   "metadata": {
    "execution": {
     "iopub.execute_input": "2024-12-28T01:25:06.589345Z",
     "iopub.status.busy": "2024-12-28T01:25:06.589039Z",
     "iopub.status.idle": "2024-12-28T01:25:08.471993Z",
     "shell.execute_reply": "2024-12-28T01:25:08.471826Z"
    }
   },
   "outputs": [],
   "source": [
    "import emat\n",
    "import yaml\n",
    "import json"
   ]
  },
  {
   "cell_type": "markdown",
   "metadata": {},
   "source": [
    "# MappingParser Example\n",
    "\n",
    "In this notebook, we will illustrate the use of a MappingParser with \n",
    "a few simple examples.  "
   ]
  },
  {
   "cell_type": "code",
   "execution_count": 2,
   "metadata": {
    "execution": {
     "iopub.execute_input": "2024-12-28T01:25:08.474719Z",
     "iopub.status.busy": "2024-12-28T01:25:08.474471Z",
     "iopub.status.idle": "2024-12-28T01:25:08.476522Z",
     "shell.execute_reply": "2024-12-28T01:25:08.476307Z"
    }
   },
   "outputs": [],
   "source": [
    "from emat.model.core_files.parsers import (\n",
    "    MappingParser,\n",
    "    key\n",
    ")"
   ]
  },
  {
   "cell_type": "markdown",
   "metadata": {},
   "source": [
    "## Parsing a YAML File\n",
    "\n",
    "First, let's consider a `MappingParser` for extracting values from a \n",
    "simple YAML file of traffic counts by time period.  We'll begin \n",
    "by writing such a table as a temporary file to be processed:"
   ]
  },
  {
   "cell_type": "code",
   "execution_count": 3,
   "metadata": {
    "execution": {
     "iopub.execute_input": "2024-12-28T01:25:08.479333Z",
     "iopub.status.busy": "2024-12-28T01:25:08.479076Z",
     "iopub.status.idle": "2024-12-28T01:25:08.481625Z",
     "shell.execute_reply": "2024-12-28T01:25:08.481739Z"
    }
   },
   "outputs": [],
   "source": [
    "sample_file_yaml = \"\"\"\n",
    "---\n",
    "LinkID: 123\n",
    "LinkName: Yellow Brick Rd.\n",
    "Toll: 0.30\n",
    "Count_AM: 3498\n",
    "Count_MD: 2340\n",
    "Count_PM: 3821\n",
    "Count_EV: 1820\n",
    "...\n",
    "\"\"\"\n",
    "\n",
    "with open('/tmp/emat_sample_file.yml', 'wt') as f:\n",
    "    f.write(sample_file_yaml)"
   ]
  },
  {
   "cell_type": "markdown",
   "metadata": {},
   "source": [
    "If we wanted to read this YAML file one time, we could easily\n",
    "do so using `yaml.safe_load`:"
   ]
  },
  {
   "cell_type": "code",
   "execution_count": 4,
   "metadata": {
    "execution": {
     "iopub.execute_input": "2024-12-28T01:25:08.487587Z",
     "iopub.status.busy": "2024-12-28T01:25:08.483944Z",
     "iopub.status.idle": "2024-12-28T01:25:08.490509Z",
     "shell.execute_reply": "2024-12-28T01:25:08.490379Z"
    }
   },
   "outputs": [
    {
     "data": {
      "text/plain": [
       "{'LinkID': 123,\n",
       " 'LinkName': 'Yellow Brick Rd.',\n",
       " 'Toll': 0.3,\n",
       " 'Count_AM': 3498,\n",
       " 'Count_MD': 2340,\n",
       " 'Count_PM': 3821,\n",
       " 'Count_EV': 1820}"
      ]
     },
     "execution_count": 4,
     "metadata": {},
     "output_type": "execute_result"
    }
   ],
   "source": [
    "with open('/tmp/emat_sample_file.yml', 'rt') as fi: \n",
    "    mapping = yaml.safe_load(fi)\n",
    "    \n",
    "mapping"
   ]
  },
  {
   "cell_type": "markdown",
   "metadata": {},
   "source": [
    "It is then simple to manually extract individual values by label,\n",
    "or by position, or we could extract a row total to get a daily \n",
    "total count for a link, or take the mean of a column:"
   ]
  },
  {
   "cell_type": "code",
   "execution_count": 5,
   "metadata": {
    "execution": {
     "iopub.execute_input": "2024-12-28T01:25:08.493710Z",
     "iopub.status.busy": "2024-12-28T01:25:08.493407Z",
     "iopub.status.idle": "2024-12-28T01:25:08.496218Z",
     "shell.execute_reply": "2024-12-28T01:25:08.496359Z"
    }
   },
   "outputs": [
    {
     "data": {
      "text/plain": [
       "{'AM': 3498, 'PM': 3821, 'OffPeak': 4160}"
      ]
     },
     "execution_count": 5,
     "metadata": {},
     "output_type": "execute_result"
    }
   ],
   "source": [
    "{\n",
    "    'AM': mapping['Count_AM'],  # one key\n",
    "    'PM': mapping['Count_PM'],  \n",
    "    'OffPeak': mapping['Count_MD'] + mapping['Count_EV'],  # adding together keys\n",
    "}"
   ]
  },
  {
   "cell_type": "markdown",
   "metadata": {},
   "source": [
    "The `MappingParser` object makes it easy to combine these instructions\n",
    "to extract the same values from the same file in any model run."
   ]
  },
  {
   "cell_type": "code",
   "execution_count": 6,
   "metadata": {
    "execution": {
     "iopub.execute_input": "2024-12-28T01:25:08.499101Z",
     "iopub.status.busy": "2024-12-28T01:25:08.498849Z",
     "iopub.status.idle": "2024-12-28T01:25:08.500841Z",
     "shell.execute_reply": "2024-12-28T01:25:08.500701Z"
    }
   },
   "outputs": [],
   "source": [
    "parser = MappingParser(\n",
    "    'emat_sample_file.yml',\n",
    "    {\n",
    "        'AM': key['Count_AM'],  # one key\n",
    "        'PM': key['Count_PM'],  \n",
    "        'OffPeak': key['Count_MD'] + key['Count_EV'],  # adding together keys\n",
    "    },\n",
    ")"
   ]
  },
  {
   "cell_type": "markdown",
   "metadata": {},
   "source": [
    "We can now execute all these instructions by using the `read` method\n",
    "of the parser."
   ]
  },
  {
   "cell_type": "code",
   "execution_count": 7,
   "metadata": {
    "execution": {
     "iopub.execute_input": "2024-12-28T01:25:08.503189Z",
     "iopub.status.busy": "2024-12-28T01:25:08.502982Z",
     "iopub.status.idle": "2024-12-28T01:25:08.507282Z",
     "shell.execute_reply": "2024-12-28T01:25:08.507004Z"
    }
   },
   "outputs": [
    {
     "data": {
      "text/plain": [
       "{'AM': 3498.0, 'PM': 3821.0, 'OffPeak': 4160.0}"
      ]
     },
     "execution_count": 7,
     "metadata": {},
     "output_type": "execute_result"
    }
   ],
   "source": [
    "parser.read(from_dir='/tmp')"
   ]
  },
  {
   "cell_type": "markdown",
   "metadata": {},
   "source": [
    "Using the `MappingParser` has some advantages over just writing a custom\n",
    "function for each table to be processed.  The most important is that\n",
    "we do not need to actually parse anything to access the names of the \n",
    "keys available in the parser's output."
   ]
  },
  {
   "cell_type": "code",
   "execution_count": 8,
   "metadata": {
    "execution": {
     "iopub.execute_input": "2024-12-28T01:25:08.509859Z",
     "iopub.status.busy": "2024-12-28T01:25:08.509657Z",
     "iopub.status.idle": "2024-12-28T01:25:08.512477Z",
     "shell.execute_reply": "2024-12-28T01:25:08.512265Z"
    }
   },
   "outputs": [
    {
     "data": {
      "text/plain": [
       "['AM', 'OffPeak', 'PM']"
      ]
     },
     "execution_count": 8,
     "metadata": {},
     "output_type": "execute_result"
    }
   ],
   "source": [
    "parser.measure_names"
   ]
  },
  {
   "cell_type": "markdown",
   "metadata": {},
   "source": [
    "## Parsing a JSON File\n",
    "\n",
    "The default format for a `MappingParser` input file is YAML,\n",
    "which conveniently can also be used to read performace measures \n",
    "from a JSON file."
   ]
  },
  {
   "cell_type": "code",
   "execution_count": 9,
   "metadata": {
    "execution": {
     "iopub.execute_input": "2024-12-28T01:25:08.514735Z",
     "iopub.status.busy": "2024-12-28T01:25:08.513756Z",
     "iopub.status.idle": "2024-12-28T01:25:08.517035Z",
     "shell.execute_reply": "2024-12-28T01:25:08.517167Z"
    }
   },
   "outputs": [],
   "source": [
    "with open('/tmp/emat_sample_file.json', 'wt') as f:\n",
    "    json.dump(mapping, f)"
   ]
  },
  {
   "cell_type": "code",
   "execution_count": 10,
   "metadata": {
    "execution": {
     "iopub.execute_input": "2024-12-28T01:25:08.519977Z",
     "iopub.status.busy": "2024-12-28T01:25:08.519678Z",
     "iopub.status.idle": "2024-12-28T01:25:08.521660Z",
     "shell.execute_reply": "2024-12-28T01:25:08.521789Z"
    }
   },
   "outputs": [],
   "source": [
    "parser = MappingParser(\n",
    "    'emat_sample_file.json',\n",
    "    {\n",
    "        'AM': key['Count_AM'],  # one key\n",
    "        'PM': key['Count_PM'],  \n",
    "        'OffPeak': key['Count_MD'] + key['Count_EV'],  # adding together keys\n",
    "    },\n",
    ")"
   ]
  },
  {
   "cell_type": "code",
   "execution_count": 11,
   "metadata": {
    "execution": {
     "iopub.execute_input": "2024-12-28T01:25:08.525143Z",
     "iopub.status.busy": "2024-12-28T01:25:08.523796Z",
     "iopub.status.idle": "2024-12-28T01:25:08.527911Z",
     "shell.execute_reply": "2024-12-28T01:25:08.528040Z"
    }
   },
   "outputs": [
    {
     "data": {
      "text/plain": [
       "{'AM': 3498.0, 'PM': 3821.0, 'OffPeak': 4160.0}"
      ]
     },
     "execution_count": 11,
     "metadata": {},
     "output_type": "execute_result"
    }
   ],
   "source": [
    "parser.read(from_dir='/tmp')"
   ]
  },
  {
   "cell_type": "markdown",
   "metadata": {},
   "source": [
    "## Parsing other File Formats\n",
    "\n",
    "The `MappingParser` can also be used for other file types that can be read\n",
    "into a simple Python mapping.  For example, consider a mapping encoded as \n",
    "a `msgpack`."
   ]
  },
  {
   "cell_type": "code",
   "execution_count": 12,
   "metadata": {
    "execution": {
     "iopub.execute_input": "2024-12-28T01:25:08.530608Z",
     "iopub.status.busy": "2024-12-28T01:25:08.530367Z",
     "iopub.status.idle": "2024-12-28T01:25:08.532585Z",
     "shell.execute_reply": "2024-12-28T01:25:08.532698Z"
    }
   },
   "outputs": [],
   "source": [
    "import msgpack\n",
    "\n",
    "with open('/tmp/emat_sample_file.msgpk', 'wb') as f:\n",
    "    msgpack.dump(mapping, f)"
   ]
  },
  {
   "cell_type": "markdown",
   "metadata": {},
   "source": [
    "To parse this file, we'll need to write a small reader function that\n",
    "takes a filename and returns the raw mapping."
   ]
  },
  {
   "cell_type": "code",
   "execution_count": 13,
   "metadata": {
    "execution": {
     "iopub.execute_input": "2024-12-28T01:25:08.535422Z",
     "iopub.status.busy": "2024-12-28T01:25:08.535118Z",
     "iopub.status.idle": "2024-12-28T01:25:08.537297Z",
     "shell.execute_reply": "2024-12-28T01:25:08.537155Z"
    }
   },
   "outputs": [],
   "source": [
    "def msgpack_load(filename):\n",
    "    with open(filename, 'rb') as fi:\n",
    "        return msgpack.load(fi)\n"
   ]
  },
  {
   "cell_type": "markdown",
   "metadata": {},
   "source": [
    "Then we provide that reader function in the `reader_method` \n",
    "argument when constucting the MappingParser."
   ]
  },
  {
   "cell_type": "code",
   "execution_count": 14,
   "metadata": {
    "execution": {
     "iopub.execute_input": "2024-12-28T01:25:08.540209Z",
     "iopub.status.busy": "2024-12-28T01:25:08.539880Z",
     "iopub.status.idle": "2024-12-28T01:25:08.542030Z",
     "shell.execute_reply": "2024-12-28T01:25:08.541889Z"
    }
   },
   "outputs": [],
   "source": [
    "parser = MappingParser(\n",
    "    'emat_sample_file.msgpk',\n",
    "    {\n",
    "        'AM': key['Count_AM'],  # one key\n",
    "        'PM': key['Count_PM'],  \n",
    "        'OffPeak': key['Count_MD'] + key['Count_EV'],  # adding together keys\n",
    "    },\n",
    "    reader_method=msgpack_load\n",
    ")"
   ]
  },
  {
   "cell_type": "code",
   "execution_count": 15,
   "metadata": {
    "execution": {
     "iopub.execute_input": "2024-12-28T01:25:08.544286Z",
     "iopub.status.busy": "2024-12-28T01:25:08.544057Z",
     "iopub.status.idle": "2024-12-28T01:25:08.547342Z",
     "shell.execute_reply": "2024-12-28T01:25:08.547189Z"
    }
   },
   "outputs": [
    {
     "data": {
      "text/plain": [
       "{'AM': 3498.0, 'PM': 3821.0, 'OffPeak': 4160.0}"
      ]
     },
     "execution_count": 15,
     "metadata": {},
     "output_type": "execute_result"
    }
   ],
   "source": [
    "parser.read(from_dir='/tmp')"
   ]
  }
 ],
 "metadata": {
  "kernelspec": {
   "display_name": "Python 3",
   "language": "python",
   "name": "python3"
  },
  "language_info": {
   "codemirror_mode": {
    "name": "ipython",
    "version": 3
   },
   "file_extension": ".py",
   "mimetype": "text/x-python",
   "name": "python",
   "nbconvert_exporter": "python",
   "pygments_lexer": "ipython3",
   "version": "3.10.15"
  },
  "toc": {
   "base_numbering": 1,
   "nav_menu": {},
   "number_sections": true,
   "sideBar": true,
   "skip_h1_title": false,
   "title_cell": "Table of Contents",
   "title_sidebar": "Contents",
   "toc_cell": false,
   "toc_position": {},
   "toc_section_display": true,
   "toc_window_display": false
  },
  "widgets": {
   "application/vnd.jupyter.widget-state+json": {
    "state": {
     "76d3643e8b9b467ab29bcdeb68bb8735": {
      "model_module": "@jupyter-widgets/base",
      "model_module_version": "2.0.0",
      "model_name": "LayoutModel",
      "state": {
       "_model_module": "@jupyter-widgets/base",
       "_model_module_version": "2.0.0",
       "_model_name": "LayoutModel",
       "_view_count": null,
       "_view_module": "@jupyter-widgets/base",
       "_view_module_version": "2.0.0",
       "_view_name": "LayoutView",
       "align_content": null,
       "align_items": null,
       "align_self": null,
       "border_bottom": null,
       "border_left": null,
       "border_right": null,
       "border_top": null,
       "bottom": null,
       "display": null,
       "flex": null,
       "flex_flow": null,
       "grid_area": null,
       "grid_auto_columns": null,
       "grid_auto_flow": null,
       "grid_auto_rows": null,
       "grid_column": null,
       "grid_gap": null,
       "grid_row": null,
       "grid_template_areas": null,
       "grid_template_columns": null,
       "grid_template_rows": null,
       "height": null,
       "justify_content": null,
       "justify_items": null,
       "left": null,
       "margin": null,
       "max_height": null,
       "max_width": null,
       "min_height": null,
       "min_width": null,
       "object_fit": null,
       "object_position": null,
       "order": null,
       "overflow": null,
       "padding": null,
       "right": null,
       "top": null,
       "visibility": null,
       "width": "250px"
      }
     },
     "c8b82eab52a24be1a124ca60d12fc2d9": {
      "model_module": "@jupyter-widgets/base",
      "model_module_version": "2.0.0",
      "model_name": "LayoutModel",
      "state": {
       "_model_module": "@jupyter-widgets/base",
       "_model_module_version": "2.0.0",
       "_model_name": "LayoutModel",
       "_view_count": null,
       "_view_module": "@jupyter-widgets/base",
       "_view_module_version": "2.0.0",
       "_view_name": "LayoutView",
       "align_content": null,
       "align_items": null,
       "align_self": null,
       "border_bottom": null,
       "border_left": null,
       "border_right": null,
       "border_top": null,
       "bottom": null,
       "display": null,
       "flex": null,
       "flex_flow": null,
       "grid_area": null,
       "grid_auto_columns": null,
       "grid_auto_flow": null,
       "grid_auto_rows": null,
       "grid_column": null,
       "grid_gap": null,
       "grid_row": null,
       "grid_template_areas": null,
       "grid_template_columns": null,
       "grid_template_rows": null,
       "height": null,
       "justify_content": null,
       "justify_items": null,
       "left": null,
       "margin": null,
       "max_height": null,
       "max_width": null,
       "min_height": null,
       "min_width": null,
       "object_fit": null,
       "object_position": null,
       "order": null,
       "overflow": null,
       "padding": null,
       "right": null,
       "top": null,
       "visibility": null,
       "width": null
      }
     }
    },
    "version_major": 2,
    "version_minor": 0
   }
  }
 },
 "nbformat": 4,
 "nbformat_minor": 2
}
