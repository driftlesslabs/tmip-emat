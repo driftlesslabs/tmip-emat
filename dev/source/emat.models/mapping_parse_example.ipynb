{
 "cells": [
  {
   "cell_type": "code",
   "execution_count": 1,
   "metadata": {
    "execution": {
     "iopub.execute_input": "2024-12-26T21:30:27.802177Z",
     "iopub.status.busy": "2024-12-26T21:30:27.801942Z",
     "iopub.status.idle": "2024-12-26T21:30:29.877121Z",
     "shell.execute_reply": "2024-12-26T21:30:29.876931Z"
    }
   },
   "outputs": [],
   "source": [
    "import emat\n",
    "import yaml\n",
    "import json"
   ]
  },
  {
   "cell_type": "markdown",
   "metadata": {},
   "source": [
    "# MappingParser Example\n",
    "\n",
    "In this notebook, we will illustrate the use of a MappingParser with \n",
    "a few simple examples.  "
   ]
  },
  {
   "cell_type": "code",
   "execution_count": 2,
   "metadata": {
    "execution": {
     "iopub.execute_input": "2024-12-26T21:30:29.880163Z",
     "iopub.status.busy": "2024-12-26T21:30:29.879949Z",
     "iopub.status.idle": "2024-12-26T21:30:29.882774Z",
     "shell.execute_reply": "2024-12-26T21:30:29.882437Z"
    }
   },
   "outputs": [],
   "source": [
    "from emat.model.core_files.parsers import (\n",
    "    MappingParser,\n",
    "    key\n",
    ")"
   ]
  },
  {
   "cell_type": "markdown",
   "metadata": {},
   "source": [
    "## Parsing a YAML File\n",
    "\n",
    "First, let's consider a `MappingParser` for extracting values from a \n",
    "simple YAML file of traffic counts by time period.  We'll begin \n",
    "by writing such a table as a temporary file to be processed:"
   ]
  },
  {
   "cell_type": "code",
   "execution_count": 3,
   "metadata": {
    "execution": {
     "iopub.execute_input": "2024-12-26T21:30:29.887050Z",
     "iopub.status.busy": "2024-12-26T21:30:29.886702Z",
     "iopub.status.idle": "2024-12-26T21:30:29.890023Z",
     "shell.execute_reply": "2024-12-26T21:30:29.890150Z"
    }
   },
   "outputs": [],
   "source": [
    "sample_file_yaml = \"\"\"\n",
    "---\n",
    "LinkID: 123\n",
    "LinkName: Yellow Brick Rd.\n",
    "Toll: 0.30\n",
    "Count_AM: 3498\n",
    "Count_MD: 2340\n",
    "Count_PM: 3821\n",
    "Count_EV: 1820\n",
    "...\n",
    "\"\"\"\n",
    "\n",
    "with open('/tmp/emat_sample_file.yml', 'wt') as f:\n",
    "    f.write(sample_file_yaml)"
   ]
  },
  {
   "cell_type": "markdown",
   "metadata": {},
   "source": [
    "If we wanted to read this YAML file one time, we could easily\n",
    "do so using `yaml.safe_load`:"
   ]
  },
  {
   "cell_type": "code",
   "execution_count": 4,
   "metadata": {
    "execution": {
     "iopub.execute_input": "2024-12-26T21:30:29.893253Z",
     "iopub.status.busy": "2024-12-26T21:30:29.892949Z",
     "iopub.status.idle": "2024-12-26T21:30:29.932457Z",
     "shell.execute_reply": "2024-12-26T21:30:29.932608Z"
    }
   },
   "outputs": [
    {
     "data": {
      "text/plain": [
       "{'LinkID': 123,\n",
       " 'LinkName': 'Yellow Brick Rd.',\n",
       " 'Toll': 0.3,\n",
       " 'Count_AM': 3498,\n",
       " 'Count_MD': 2340,\n",
       " 'Count_PM': 3821,\n",
       " 'Count_EV': 1820}"
      ]
     },
     "execution_count": 4,
     "metadata": {},
     "output_type": "execute_result"
    }
   ],
   "source": [
    "with open('/tmp/emat_sample_file.yml', 'rt') as fi: \n",
    "    mapping = yaml.safe_load(fi)\n",
    "    \n",
    "mapping"
   ]
  },
  {
   "cell_type": "markdown",
   "metadata": {},
   "source": [
    "It is then simple to manually extract individual values by label,\n",
    "or by position, or we could extract a row total to get a daily \n",
    "total count for a link, or take the mean of a column:"
   ]
  },
  {
   "cell_type": "code",
   "execution_count": 5,
   "metadata": {
    "execution": {
     "iopub.execute_input": "2024-12-26T21:30:29.938283Z",
     "iopub.status.busy": "2024-12-26T21:30:29.937966Z",
     "iopub.status.idle": "2024-12-26T21:30:29.941599Z",
     "shell.execute_reply": "2024-12-26T21:30:29.941229Z"
    }
   },
   "outputs": [
    {
     "data": {
      "text/plain": [
       "{'AM': 3498, 'PM': 3821, 'OffPeak': 4160}"
      ]
     },
     "execution_count": 5,
     "metadata": {},
     "output_type": "execute_result"
    }
   ],
   "source": [
    "{\n",
    "    'AM': mapping['Count_AM'],  # one key\n",
    "    'PM': mapping['Count_PM'],  \n",
    "    'OffPeak': mapping['Count_MD'] + mapping['Count_EV'],  # adding together keys\n",
    "}"
   ]
  },
  {
   "cell_type": "markdown",
   "metadata": {},
   "source": [
    "The `MappingParser` object makes it easy to combine these instructions\n",
    "to extract the same values from the same file in any model run."
   ]
  },
  {
   "cell_type": "code",
   "execution_count": 6,
   "metadata": {
    "execution": {
     "iopub.execute_input": "2024-12-26T21:30:29.945052Z",
     "iopub.status.busy": "2024-12-26T21:30:29.944819Z",
     "iopub.status.idle": "2024-12-26T21:30:29.946677Z",
     "shell.execute_reply": "2024-12-26T21:30:29.946827Z"
    }
   },
   "outputs": [],
   "source": [
    "parser = MappingParser(\n",
    "    'emat_sample_file.yml',\n",
    "    {\n",
    "        'AM': key['Count_AM'],  # one key\n",
    "        'PM': key['Count_PM'],  \n",
    "        'OffPeak': key['Count_MD'] + key['Count_EV'],  # adding together keys\n",
    "    },\n",
    ")"
   ]
  },
  {
   "cell_type": "markdown",
   "metadata": {},
   "source": [
    "We can now execute all these instructions by using the `read` method\n",
    "of the parser."
   ]
  },
  {
   "cell_type": "code",
   "execution_count": 7,
   "metadata": {
    "execution": {
     "iopub.execute_input": "2024-12-26T21:30:29.949238Z",
     "iopub.status.busy": "2024-12-26T21:30:29.949037Z",
     "iopub.status.idle": "2024-12-26T21:30:29.953950Z",
     "shell.execute_reply": "2024-12-26T21:30:29.953708Z"
    }
   },
   "outputs": [
    {
     "data": {
      "text/plain": [
       "{'AM': 3498.0, 'PM': 3821.0, 'OffPeak': 4160.0}"
      ]
     },
     "execution_count": 7,
     "metadata": {},
     "output_type": "execute_result"
    }
   ],
   "source": [
    "parser.read(from_dir='/tmp')"
   ]
  },
  {
   "cell_type": "markdown",
   "metadata": {},
   "source": [
    "Using the `MappingParser` has some advantages over just writing a custom\n",
    "function for each table to be processed.  The most important is that\n",
    "we do not need to actually parse anything to access the names of the \n",
    "keys available in the parser's output."
   ]
  },
  {
   "cell_type": "code",
   "execution_count": 8,
   "metadata": {
    "execution": {
     "iopub.execute_input": "2024-12-26T21:30:29.957131Z",
     "iopub.status.busy": "2024-12-26T21:30:29.956917Z",
     "iopub.status.idle": "2024-12-26T21:30:29.959887Z",
     "shell.execute_reply": "2024-12-26T21:30:29.960003Z"
    }
   },
   "outputs": [
    {
     "data": {
      "text/plain": [
       "['AM', 'OffPeak', 'PM']"
      ]
     },
     "execution_count": 8,
     "metadata": {},
     "output_type": "execute_result"
    }
   ],
   "source": [
    "parser.measure_names"
   ]
  },
  {
   "cell_type": "markdown",
   "metadata": {},
   "source": [
    "## Parsing a JSON File\n",
    "\n",
    "The default format for a `MappingParser` input file is YAML,\n",
    "which conveniently can also be used to read performace measures \n",
    "from a JSON file."
   ]
  },
  {
   "cell_type": "code",
   "execution_count": 9,
   "metadata": {
    "execution": {
     "iopub.execute_input": "2024-12-26T21:30:29.962878Z",
     "iopub.status.busy": "2024-12-26T21:30:29.962528Z",
     "iopub.status.idle": "2024-12-26T21:30:29.964923Z",
     "shell.execute_reply": "2024-12-26T21:30:29.964744Z"
    }
   },
   "outputs": [],
   "source": [
    "with open('/tmp/emat_sample_file.json', 'wt') as f:\n",
    "    json.dump(mapping, f)"
   ]
  },
  {
   "cell_type": "code",
   "execution_count": 10,
   "metadata": {
    "execution": {
     "iopub.execute_input": "2024-12-26T21:30:29.967966Z",
     "iopub.status.busy": "2024-12-26T21:30:29.967704Z",
     "iopub.status.idle": "2024-12-26T21:30:29.969937Z",
     "shell.execute_reply": "2024-12-26T21:30:29.969771Z"
    }
   },
   "outputs": [],
   "source": [
    "parser = MappingParser(\n",
    "    'emat_sample_file.json',\n",
    "    {\n",
    "        'AM': key['Count_AM'],  # one key\n",
    "        'PM': key['Count_PM'],  \n",
    "        'OffPeak': key['Count_MD'] + key['Count_EV'],  # adding together keys\n",
    "    },\n",
    ")"
   ]
  },
  {
   "cell_type": "code",
   "execution_count": 11,
   "metadata": {
    "execution": {
     "iopub.execute_input": "2024-12-26T21:30:29.972636Z",
     "iopub.status.busy": "2024-12-26T21:30:29.972329Z",
     "iopub.status.idle": "2024-12-26T21:30:29.977192Z",
     "shell.execute_reply": "2024-12-26T21:30:29.976963Z"
    }
   },
   "outputs": [
    {
     "data": {
      "text/plain": [
       "{'AM': 3498.0, 'PM': 3821.0, 'OffPeak': 4160.0}"
      ]
     },
     "execution_count": 11,
     "metadata": {},
     "output_type": "execute_result"
    }
   ],
   "source": [
    "parser.read(from_dir='/tmp')"
   ]
  },
  {
   "cell_type": "markdown",
   "metadata": {},
   "source": [
    "## Parsing other File Formats\n",
    "\n",
    "The `MappingParser` can also be used for other file types that can be read\n",
    "into a simple Python mapping.  For example, consider a mapping encoded as \n",
    "a `msgpack`."
   ]
  },
  {
   "cell_type": "code",
   "execution_count": 12,
   "metadata": {
    "execution": {
     "iopub.execute_input": "2024-12-26T21:30:29.980061Z",
     "iopub.status.busy": "2024-12-26T21:30:29.979754Z",
     "iopub.status.idle": "2024-12-26T21:30:29.982135Z",
     "shell.execute_reply": "2024-12-26T21:30:29.981899Z"
    }
   },
   "outputs": [],
   "source": [
    "import msgpack\n",
    "\n",
    "with open('/tmp/emat_sample_file.msgpk', 'wb') as f:\n",
    "    msgpack.dump(mapping, f)"
   ]
  },
  {
   "cell_type": "markdown",
   "metadata": {},
   "source": [
    "To parse this file, we'll need to write a small reader function that\n",
    "takes a filename and returns the raw mapping."
   ]
  },
  {
   "cell_type": "code",
   "execution_count": 13,
   "metadata": {
    "execution": {
     "iopub.execute_input": "2024-12-26T21:30:29.985346Z",
     "iopub.status.busy": "2024-12-26T21:30:29.985047Z",
     "iopub.status.idle": "2024-12-26T21:30:29.986965Z",
     "shell.execute_reply": "2024-12-26T21:30:29.987101Z"
    }
   },
   "outputs": [],
   "source": [
    "def msgpack_load(filename):\n",
    "    with open(filename, 'rb') as fi:\n",
    "        return msgpack.load(fi)\n"
   ]
  },
  {
   "cell_type": "markdown",
   "metadata": {},
   "source": [
    "Then we provide that reader function in the `reader_method` \n",
    "argument when constucting the MappingParser."
   ]
  },
  {
   "cell_type": "code",
   "execution_count": 14,
   "metadata": {
    "execution": {
     "iopub.execute_input": "2024-12-26T21:30:29.990378Z",
     "iopub.status.busy": "2024-12-26T21:30:29.990105Z",
     "iopub.status.idle": "2024-12-26T21:30:29.992241Z",
     "shell.execute_reply": "2024-12-26T21:30:29.992038Z"
    }
   },
   "outputs": [],
   "source": [
    "parser = MappingParser(\n",
    "    'emat_sample_file.msgpk',\n",
    "    {\n",
    "        'AM': key['Count_AM'],  # one key\n",
    "        'PM': key['Count_PM'],  \n",
    "        'OffPeak': key['Count_MD'] + key['Count_EV'],  # adding together keys\n",
    "    },\n",
    "    reader_method=msgpack_load\n",
    ")"
   ]
  },
  {
   "cell_type": "code",
   "execution_count": 15,
   "metadata": {
    "execution": {
     "iopub.execute_input": "2024-12-26T21:30:29.994674Z",
     "iopub.status.busy": "2024-12-26T21:30:29.994442Z",
     "iopub.status.idle": "2024-12-26T21:30:29.998146Z",
     "shell.execute_reply": "2024-12-26T21:30:29.997988Z"
    }
   },
   "outputs": [
    {
     "data": {
      "text/plain": [
       "{'AM': 3498.0, 'PM': 3821.0, 'OffPeak': 4160.0}"
      ]
     },
     "execution_count": 15,
     "metadata": {},
     "output_type": "execute_result"
    }
   ],
   "source": [
    "parser.read(from_dir='/tmp')"
   ]
  }
 ],
 "metadata": {
  "kernelspec": {
   "display_name": "Python 3",
   "language": "python",
   "name": "python3"
  },
  "language_info": {
   "codemirror_mode": {
    "name": "ipython",
    "version": 3
   },
   "file_extension": ".py",
   "mimetype": "text/x-python",
   "name": "python",
   "nbconvert_exporter": "python",
   "pygments_lexer": "ipython3",
   "version": "3.10.15"
  },
  "toc": {
   "base_numbering": 1,
   "nav_menu": {},
   "number_sections": true,
   "sideBar": true,
   "skip_h1_title": false,
   "title_cell": "Table of Contents",
   "title_sidebar": "Contents",
   "toc_cell": false,
   "toc_position": {},
   "toc_section_display": true,
   "toc_window_display": false
  },
  "widgets": {
   "application/vnd.jupyter.widget-state+json": {
    "state": {
     "dfbf0b7c3f2c463ab71cee907266b8e7": {
      "model_module": "@jupyter-widgets/base",
      "model_module_version": "2.0.0",
      "model_name": "LayoutModel",
      "state": {
       "_model_module": "@jupyter-widgets/base",
       "_model_module_version": "2.0.0",
       "_model_name": "LayoutModel",
       "_view_count": null,
       "_view_module": "@jupyter-widgets/base",
       "_view_module_version": "2.0.0",
       "_view_name": "LayoutView",
       "align_content": null,
       "align_items": null,
       "align_self": null,
       "border_bottom": null,
       "border_left": null,
       "border_right": null,
       "border_top": null,
       "bottom": null,
       "display": null,
       "flex": null,
       "flex_flow": null,
       "grid_area": null,
       "grid_auto_columns": null,
       "grid_auto_flow": null,
       "grid_auto_rows": null,
       "grid_column": null,
       "grid_gap": null,
       "grid_row": null,
       "grid_template_areas": null,
       "grid_template_columns": null,
       "grid_template_rows": null,
       "height": null,
       "justify_content": null,
       "justify_items": null,
       "left": null,
       "margin": null,
       "max_height": null,
       "max_width": null,
       "min_height": null,
       "min_width": null,
       "object_fit": null,
       "object_position": null,
       "order": null,
       "overflow": null,
       "padding": null,
       "right": null,
       "top": null,
       "visibility": null,
       "width": null
      }
     },
     "feb685e9aeeb43c88fc18681ece6fea7": {
      "model_module": "@jupyter-widgets/base",
      "model_module_version": "2.0.0",
      "model_name": "LayoutModel",
      "state": {
       "_model_module": "@jupyter-widgets/base",
       "_model_module_version": "2.0.0",
       "_model_name": "LayoutModel",
       "_view_count": null,
       "_view_module": "@jupyter-widgets/base",
       "_view_module_version": "2.0.0",
       "_view_name": "LayoutView",
       "align_content": null,
       "align_items": null,
       "align_self": null,
       "border_bottom": null,
       "border_left": null,
       "border_right": null,
       "border_top": null,
       "bottom": null,
       "display": null,
       "flex": null,
       "flex_flow": null,
       "grid_area": null,
       "grid_auto_columns": null,
       "grid_auto_flow": null,
       "grid_auto_rows": null,
       "grid_column": null,
       "grid_gap": null,
       "grid_row": null,
       "grid_template_areas": null,
       "grid_template_columns": null,
       "grid_template_rows": null,
       "height": null,
       "justify_content": null,
       "justify_items": null,
       "left": null,
       "margin": null,
       "max_height": null,
       "max_width": null,
       "min_height": null,
       "min_width": null,
       "object_fit": null,
       "object_position": null,
       "order": null,
       "overflow": null,
       "padding": null,
       "right": null,
       "top": null,
       "visibility": null,
       "width": "250px"
      }
     }
    },
    "version_major": 2,
    "version_minor": 0
   }
  }
 },
 "nbformat": 4,
 "nbformat_minor": 2
}
